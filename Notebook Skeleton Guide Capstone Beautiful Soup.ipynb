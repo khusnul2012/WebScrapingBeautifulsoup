{
 "cells": [
  {
   "cell_type": "markdown",
   "metadata": {},
   "source": [
    "# Capstone Webscrapping using BeautifulSoup\n",
    "\n",
    "This notebook contains guidances & tasks on the data processing for the application\n",
    "\n",
    "## background\n",
    "\n",
    "We will collect Ethereum trading data from www.coingecko.com in this project. Data taken daily includes market capitalization, trading volume, opening price, and closing price. After that we can create chart of trading volume to find out the trendline of ethereum.\n",
    "\n",
    "## Requesting the Data and Creating a BeautifulSoup\n",
    "\n",
    "Let's begin with requesting the web from the site with `get` method."
   ]
  },
  {
   "cell_type": "code",
   "execution_count": 1,
   "metadata": {
    "ExecuteTime": {
     "end_time": "2020-01-13T05:12:23.275508Z",
     "start_time": "2020-01-13T05:12:20.009898Z"
    }
   },
   "outputs": [],
   "source": [
    "import requests\n",
    "\n",
    "url_get = requests.get('https://www.coingecko.com/en/coins/ethereum/historical_data/usd?start_date=2020-01-01&end_date=2021-06-30#panel')"
   ]
  },
  {
   "cell_type": "markdown",
   "metadata": {},
   "source": [
    "To visualize what exactly you get from the `request.get`, we can use .content so ee what we exactly get, in here i slice it so it won't make our screen full of the html we get from the page. You can delete the slicing if you want to see what we fully get."
   ]
  },
  {
   "cell_type": "code",
   "execution_count": 2,
   "metadata": {
    "ExecuteTime": {
     "end_time": "2020-01-13T05:12:23.290648Z",
     "start_time": "2020-01-13T05:12:23.277650Z"
    }
   },
   "outputs": [
    {
     "data": {
      "text/plain": [
       "b'!DOCTYPE html>\\n<html lang=\"en\">\\n<head>\\n<meta charset=\"utf-8\">\\n<meta http-equiv=\"X-UA-Compatible\" content=\"IE=edge\">\\n<meta name=\"viewport\" content=\"width=device-width, initial-scale=1.0\">\\n<link rel=\"shortcut icon\" href=\"/favicon.ico\">\\n<link type=\"application/opensearchdescription+xml\" rel=\"search\" href=\"/OpensearchDescription.xml\" />\\n<title>Ethereum USD Historical Data | CoinGecko</title>\\n<meta name=\"description\" content=\"Get Ethereum (ETH) USD historical prices.\" />\\n\\n\\n<script>(function(w,d,s,l,'"
      ]
     },
     "execution_count": 2,
     "metadata": {},
     "output_type": "execute_result"
    }
   ],
   "source": [
    "url_get.content[1:500]"
   ]
  },
  {
   "cell_type": "markdown",
   "metadata": {},
   "source": [
    "As we can see we get a very unstructured and complex html, which actually contains the codes needed to show the webpages on your web browser. But we as human still confused what and where we can use that piece of code, so here where we use the beautifulsoup. Beautiful soup class will result a beautifulsoup object. Beautiful Soup transforms a complex HTML document into a complex tree of Python objects. \n",
    "\n",
    "Let's make Beautiful soup object and feel free to explore the object here."
   ]
  },
  {
   "cell_type": "code",
   "execution_count": 3,
   "metadata": {
    "ExecuteTime": {
     "end_time": "2020-01-13T05:12:23.808122Z",
     "start_time": "2020-01-13T05:12:23.292610Z"
    }
   },
   "outputs": [],
   "source": [
    "from bs4 import BeautifulSoup \n",
    "\n",
    "soup = BeautifulSoup(url_get.content,\"html.parser\")"
   ]
  },
  {
   "cell_type": "markdown",
   "metadata": {},
   "source": [
    "## Finding the right key to scrap the data & Extracting the right information"
   ]
  },
  {
   "cell_type": "code",
   "execution_count": 4,
   "metadata": {
    "ExecuteTime": {
     "end_time": "2020-01-13T05:12:23.878904Z",
     "start_time": "2020-01-13T05:12:23.854974Z"
    }
   },
   "outputs": [
    {
     "name": "stdout",
     "output_type": "stream",
     "text": [
      "tbody>\n",
      " <tr>\n",
      "  <th class=\"font-semibold text-center\" scope=\"row\">\n",
      "   2021-06-30\n",
      "  </th>\n",
      "  <td class=\"text-center\">\n",
      "   $253,607,549,372\n",
      "  </td>\n",
      "  <td class=\"text-center\">\n",
      "   $27,149,143,847\n",
      "  </td>\n",
      "  <td class=\"text-center\">\n",
      "   $2,169.40\n",
      "  </td>\n",
      "  <td class=\"text-center\">\n",
      "   N/A\n",
      "  </td>\n",
      " </tr>\n",
      " <tr>\n",
      "  <th class=\"font-semibold text-center\" scope=\"row\">\n",
      "   2021-06-29\n",
      "  </th>\n",
      "  <td class=\"text-center\">\n",
      "   $243,040,539,437\n",
      "  </td>\n",
      "  <td class=\"text-center\">\n",
      "   $30,629,329,806\n",
      "  </td>\n",
      "  <td class=\"te\n"
     ]
    }
   ],
   "source": [
    "table = soup.find('tbody')\n",
    "print(table.prettify()[1:500])"
   ]
  },
  {
   "cell_type": "code",
   "execution_count": 5,
   "metadata": {},
   "outputs": [],
   "source": [
    "items = table.find_all('tr')"
   ]
  },
  {
   "cell_type": "markdown",
   "metadata": {},
   "source": [
    "We can use \"Inspect Elements\" tool in our browser, so we knew that Ethereum trade data are nested in <tbody> and each rows is nested in tr. Afterward we have to pull those things using find() function."
   ]
  },
  {
   "cell_type": "code",
   "execution_count": 6,
   "metadata": {
    "ExecuteTime": {
     "end_time": "2020-01-13T05:12:24.008256Z",
     "start_time": "2020-01-13T05:12:23.980358Z"
    }
   },
   "outputs": [],
   "source": [
    "temp = []\n",
    "\n",
    "for i in range(0, len(items)):\n",
    "    \n",
    "    # Scrapping process\n",
    "    item = items[i]\n",
    "    date = item.find('th').text.strip()\n",
    "    market_cap = item.find_all('td')[0].text.strip().replace('$', '').replace(',','')\n",
    "    volume = item.find_all('td')[1].text.strip().replace('$', '').replace(',','')\n",
    "    open = item.find_all('td')[2].text.strip().replace('$', '').replace(',','')\n",
    "    close = item.find_all('td')[3].text.strip().replace('$', '').replace(',','')\n",
    "    \n",
    "    # Store every data in temp\n",
    "    temp.append((date, market_cap, volume, open, close))"
   ]
  },
  {
   "cell_type": "markdown",
   "metadata": {},
   "source": [
    "We want to remove every whitespace and USD sign. Then  use strip() function to remove every white space and replace() function to remove USD sign."
   ]
  },
  {
   "cell_type": "code",
   "execution_count": 8,
   "metadata": {},
   "outputs": [
    {
     "data": {
      "text/plain": [
       "[('2021-06-29', '243040539437', '30629329806', '2087.52', '2169.40'),\n",
       " ('2021-06-28', '229354016311', '24316408028', '1973.93', '2087.52'),\n",
       " ('2021-06-27', '209989265221', '24249510321', '1817.05', '1973.93'),\n",
       " ('2021-06-26', '213871849532', '25981381067', '1833.46', '1817.05'),\n",
       " ('2021-06-25', '231644258719', '22447489242', '1990.08', '1833.46'),\n",
       " ('2021-06-24', '229518675837', '28098744045', '1971.11', '1990.08'),\n",
       " ('2021-06-23', '216876757209', '38755019937', '1875.36', '1971.11'),\n",
       " ('2021-06-22', '223202708789', '39499960408', '1900.12', '1875.36'),\n",
       " ('2021-06-21', '261478202409', '26235850447', '2251.56', '1900.12')]"
      ]
     },
     "execution_count": 8,
     "metadata": {},
     "output_type": "execute_result"
    }
   ],
   "source": [
    "temp[1:10]"
   ]
  },
  {
   "cell_type": "markdown",
   "metadata": {},
   "source": [
    "Due to the 'Date'ordered in ascending, we'll  change the order to descending (easier to understand)"
   ]
  },
  {
   "cell_type": "code",
   "execution_count": 9,
   "metadata": {},
   "outputs": [],
   "source": [
    "temp = temp[::-1]"
   ]
  },
  {
   "cell_type": "code",
   "execution_count": 11,
   "metadata": {},
   "outputs": [
    {
     "data": {
      "text/plain": [
       "[('2020-01-01', '14097451632', '7103187151', '129.19', '130.48'),\n",
       " ('2020-01-02', '14230588104', '6623732041', '130.48', '127.05'),\n",
       " ('2020-01-03', '13859793330', '6497297884', '127.05', '133.70'),\n",
       " ('2020-01-04', '14613194776', '9655245100', '133.70', '134.14'),\n",
       " ('2020-01-05', '14636213160', '6958393690', '134.14', '135.01'),\n",
       " ('2020-01-06', '14738834254', '7260645128', '135.01', '143.81'),\n",
       " ('2020-01-07', '15692578635', '9514201882', '143.81', '143.02'),\n",
       " ('2020-01-08', '15656491188', '9440938788', '143.02', '140.27'),\n",
       " ('2020-01-09', '15364547562', '10095847759', '140.27', '137.86'),\n",
       " ('2020-01-10', '14998595868', '7280640218', '137.86', '144.60')]"
      ]
     },
     "execution_count": 11,
     "metadata": {},
     "output_type": "execute_result"
    }
   ],
   "source": [
    "temp[0:10]"
   ]
  },
  {
   "cell_type": "markdown",
   "metadata": {},
   "source": [
    "## Creating data frame & Data wrangling"
   ]
  },
  {
   "cell_type": "markdown",
   "metadata": {},
   "source": [
    "Put the array into dataframe using DataFrame function in Pandas"
   ]
  },
  {
   "cell_type": "code",
   "execution_count": 12,
   "metadata": {
    "ExecuteTime": {
     "end_time": "2020-01-13T05:12:41.517372Z",
     "start_time": "2020-01-13T05:12:29.130015Z"
    }
   },
   "outputs": [
    {
     "data": {
      "text/html": [
       "<div>\n",
       "<style scoped>\n",
       "    .dataframe tbody tr th:only-of-type {\n",
       "        vertical-align: middle;\n",
       "    }\n",
       "\n",
       "    .dataframe tbody tr th {\n",
       "        vertical-align: top;\n",
       "    }\n",
       "\n",
       "    .dataframe thead th {\n",
       "        text-align: right;\n",
       "    }\n",
       "</style>\n",
       "<table border=\"1\" class=\"dataframe\">\n",
       "  <thead>\n",
       "    <tr style=\"text-align: right;\">\n",
       "      <th></th>\n",
       "      <th>Date</th>\n",
       "      <th>Market Cap</th>\n",
       "      <th>Volume</th>\n",
       "      <th>Open</th>\n",
       "      <th>Close</th>\n",
       "    </tr>\n",
       "  </thead>\n",
       "  <tbody>\n",
       "    <tr>\n",
       "      <th>0</th>\n",
       "      <td>2020-01-01</td>\n",
       "      <td>14097451632</td>\n",
       "      <td>7103187151</td>\n",
       "      <td>129.19</td>\n",
       "      <td>130.48</td>\n",
       "    </tr>\n",
       "    <tr>\n",
       "      <th>1</th>\n",
       "      <td>2020-01-02</td>\n",
       "      <td>14230588104</td>\n",
       "      <td>6623732041</td>\n",
       "      <td>130.48</td>\n",
       "      <td>127.05</td>\n",
       "    </tr>\n",
       "    <tr>\n",
       "      <th>2</th>\n",
       "      <td>2020-01-03</td>\n",
       "      <td>13859793330</td>\n",
       "      <td>6497297884</td>\n",
       "      <td>127.05</td>\n",
       "      <td>133.70</td>\n",
       "    </tr>\n",
       "    <tr>\n",
       "      <th>3</th>\n",
       "      <td>2020-01-04</td>\n",
       "      <td>14613194776</td>\n",
       "      <td>9655245100</td>\n",
       "      <td>133.70</td>\n",
       "      <td>134.14</td>\n",
       "    </tr>\n",
       "    <tr>\n",
       "      <th>4</th>\n",
       "      <td>2020-01-05</td>\n",
       "      <td>14636213160</td>\n",
       "      <td>6958393690</td>\n",
       "      <td>134.14</td>\n",
       "      <td>135.01</td>\n",
       "    </tr>\n",
       "  </tbody>\n",
       "</table>\n",
       "</div>"
      ],
      "text/plain": [
       "         Date   Market Cap      Volume    Open   Close\n",
       "0  2020-01-01  14097451632  7103187151  129.19  130.48\n",
       "1  2020-01-02  14230588104  6623732041  130.48  127.05\n",
       "2  2020-01-03  13859793330  6497297884  127.05  133.70\n",
       "3  2020-01-04  14613194776  9655245100  133.70  134.14\n",
       "4  2020-01-05  14636213160  6958393690  134.14  135.01"
      ]
     },
     "execution_count": 12,
     "metadata": {},
     "output_type": "execute_result"
    }
   ],
   "source": [
    "import pandas as pd\n",
    "df = pd.DataFrame(temp, columns=('Date', 'Market Cap', 'Volume', 'Open', 'Close'))\n",
    "df.head()"
   ]
  },
  {
   "cell_type": "code",
   "execution_count": 14,
   "metadata": {},
   "outputs": [
    {
     "data": {
      "text/html": [
       "<div>\n",
       "<style scoped>\n",
       "    .dataframe tbody tr th:only-of-type {\n",
       "        vertical-align: middle;\n",
       "    }\n",
       "\n",
       "    .dataframe tbody tr th {\n",
       "        vertical-align: top;\n",
       "    }\n",
       "\n",
       "    .dataframe thead th {\n",
       "        text-align: right;\n",
       "    }\n",
       "</style>\n",
       "<table border=\"1\" class=\"dataframe\">\n",
       "  <thead>\n",
       "    <tr style=\"text-align: right;\">\n",
       "      <th></th>\n",
       "      <th>Date</th>\n",
       "      <th>Market Cap</th>\n",
       "      <th>Volume</th>\n",
       "      <th>Open</th>\n",
       "      <th>Close</th>\n",
       "    </tr>\n",
       "  </thead>\n",
       "  <tbody>\n",
       "    <tr>\n",
       "      <th>542</th>\n",
       "      <td>2021-06-26</td>\n",
       "      <td>213871849532</td>\n",
       "      <td>25981381067</td>\n",
       "      <td>1833.46</td>\n",
       "      <td>1817.05</td>\n",
       "    </tr>\n",
       "    <tr>\n",
       "      <th>543</th>\n",
       "      <td>2021-06-27</td>\n",
       "      <td>209989265221</td>\n",
       "      <td>24249510321</td>\n",
       "      <td>1817.05</td>\n",
       "      <td>1973.93</td>\n",
       "    </tr>\n",
       "    <tr>\n",
       "      <th>544</th>\n",
       "      <td>2021-06-28</td>\n",
       "      <td>229354016311</td>\n",
       "      <td>24316408028</td>\n",
       "      <td>1973.93</td>\n",
       "      <td>2087.52</td>\n",
       "    </tr>\n",
       "    <tr>\n",
       "      <th>545</th>\n",
       "      <td>2021-06-29</td>\n",
       "      <td>243040539437</td>\n",
       "      <td>30629329806</td>\n",
       "      <td>2087.52</td>\n",
       "      <td>2169.40</td>\n",
       "    </tr>\n",
       "    <tr>\n",
       "      <th>546</th>\n",
       "      <td>2021-06-30</td>\n",
       "      <td>253607549372</td>\n",
       "      <td>27149143847</td>\n",
       "      <td>2169.40</td>\n",
       "      <td>N/A</td>\n",
       "    </tr>\n",
       "  </tbody>\n",
       "</table>\n",
       "</div>"
      ],
      "text/plain": [
       "           Date    Market Cap       Volume     Open    Close\n",
       "542  2021-06-26  213871849532  25981381067  1833.46  1817.05\n",
       "543  2021-06-27  209989265221  24249510321  1817.05  1973.93\n",
       "544  2021-06-28  229354016311  24316408028  1973.93  2087.52\n",
       "545  2021-06-29  243040539437  30629329806  2087.52  2169.40\n",
       "546  2021-06-30  253607549372  27149143847  2169.40      N/A"
      ]
     },
     "execution_count": 14,
     "metadata": {},
     "output_type": "execute_result"
    }
   ],
   "source": [
    "df.tail()"
   ]
  },
  {
   "cell_type": "markdown",
   "metadata": {},
   "source": [
    "Do the data cleaning here - Check 'N/A' value in df"
   ]
  },
  {
   "cell_type": "code",
   "execution_count": 13,
   "metadata": {
    "ExecuteTime": {
     "end_time": "2020-01-13T05:12:59.165559Z",
     "start_time": "2020-01-13T05:12:58.910012Z"
    }
   },
   "outputs": [
    {
     "data": {
      "text/plain": [
       "Date          0\n",
       "Market Cap    0\n",
       "Volume        0\n",
       "Open          0\n",
       "Close         0\n",
       "dtype: int64"
      ]
     },
     "execution_count": 13,
     "metadata": {},
     "output_type": "execute_result"
    }
   ],
   "source": [
    "df.isna().sum()"
   ]
  },
  {
   "cell_type": "markdown",
   "metadata": {},
   "source": [
    "Change every 'N/A' with 0 (null)"
   ]
  },
  {
   "cell_type": "code",
   "execution_count": 15,
   "metadata": {},
   "outputs": [],
   "source": [
    "df.replace({'N/A':int('0')}, inplace=True)"
   ]
  },
  {
   "cell_type": "markdown",
   "metadata": {},
   "source": [
    "Check type of every data"
   ]
  },
  {
   "cell_type": "code",
   "execution_count": 16,
   "metadata": {
    "scrolled": false
   },
   "outputs": [
    {
     "data": {
      "text/plain": [
       "Date          object\n",
       "Market Cap    object\n",
       "Volume        object\n",
       "Open          object\n",
       "Close         object\n",
       "dtype: object"
      ]
     },
     "execution_count": 16,
     "metadata": {},
     "output_type": "execute_result"
    }
   ],
   "source": [
    "df.dtypes"
   ]
  },
  {
   "cell_type": "markdown",
   "metadata": {},
   "source": [
    "We have to change  data type \n",
    "Date should be datetime64 and\n",
    "others should be float64"
   ]
  },
  {
   "cell_type": "code",
   "execution_count": 17,
   "metadata": {},
   "outputs": [
    {
     "data": {
      "text/plain": [
       "Date          datetime64[ns]\n",
       "Market Cap           float64\n",
       "Volume               float64\n",
       "Open                 float64\n",
       "Close                float64\n",
       "dtype: object"
      ]
     },
     "execution_count": 17,
     "metadata": {},
     "output_type": "execute_result"
    }
   ],
   "source": [
    "df['Date'] = df['Date'].astype('datetime64')\n",
    "df[['Market Cap', 'Volume', 'Open', 'Close']] = df[['Market Cap', 'Volume', 'Open', 'Close']].astype('float')\n",
    "df.dtypes"
   ]
  },
  {
   "cell_type": "markdown",
   "metadata": {},
   "source": [
    "### Implementing your webscrapping to the flask dashboard\n",
    "\n",
    "- Copy paste all of your web scrapping process to the desired position on the `app.py`\n",
    "- Changing the title of the dasboard at `index.html`"
   ]
  },
  {
   "cell_type": "markdown",
   "metadata": {},
   "source": [
    "## Finishing This Notebook with Your Analysis and Conclusion\n",
    "\n",
    "We will cretae a graph of of 'Volume' over time. So we have to set 'Date' as an index."
   ]
  },
  {
   "cell_type": "code",
   "execution_count": 18,
   "metadata": {
    "ExecuteTime": {
     "end_time": "2020-01-13T05:20:56.208237Z",
     "start_time": "2020-01-13T05:20:56.076043Z"
    }
   },
   "outputs": [],
   "source": [
    "df = df.set_index('Date')"
   ]
  },
  {
   "cell_type": "markdown",
   "metadata": {},
   "source": [
    "'Volume' movement in line graph"
   ]
  },
  {
   "cell_type": "code",
   "execution_count": 19,
   "metadata": {},
   "outputs": [
    {
     "data": {
      "text/plain": [
       "<AxesSubplot:xlabel='Date'>"
      ]
     },
     "execution_count": 19,
     "metadata": {},
     "output_type": "execute_result"
    },
    {
     "data": {
      "image/png": "[encoded data removed]",
      "text/plain": [
       "<Figure size 432x288 with 1 Axes>"
      ]
     },
     "metadata": {
      "needs_background": "light"
     },
     "output_type": "display_data"
    }
   ],
   "source": [
    "df['Volume'].plot.line()"
   ]
  },
  {
   "cell_type": "code",
   "execution_count": 21,
   "metadata": {
    "scrolled": true
   },
   "outputs": [
    {
     "data": {
      "text/html": [
       "<div>\n",
       "<style scoped>\n",
       "    .dataframe tbody tr th:only-of-type {\n",
       "        vertical-align: middle;\n",
       "    }\n",
       "\n",
       "    .dataframe tbody tr th {\n",
       "        vertical-align: top;\n",
       "    }\n",
       "\n",
       "    .dataframe thead th {\n",
       "        text-align: right;\n",
       "    }\n",
       "</style>\n",
       "<table border=\"1\" class=\"dataframe\">\n",
       "  <thead>\n",
       "    <tr style=\"text-align: right;\">\n",
       "      <th></th>\n",
       "      <th>Market Cap</th>\n",
       "      <th>Volume</th>\n",
       "      <th>Open</th>\n",
       "      <th>Close</th>\n",
       "    </tr>\n",
       "  </thead>\n",
       "  <tbody>\n",
       "    <tr>\n",
       "      <th>count</th>\n",
       "      <td>5.470000e+02</td>\n",
       "      <td>5.470000e+02</td>\n",
       "      <td>547.000000</td>\n",
       "      <td>547.000000</td>\n",
       "    </tr>\n",
       "    <tr>\n",
       "      <th>mean</th>\n",
       "      <td>1.018994e+11</td>\n",
       "      <td>2.244515e+10</td>\n",
       "      <td>888.237367</td>\n",
       "      <td>888.001188</td>\n",
       "    </tr>\n",
       "    <tr>\n",
       "      <th>std</th>\n",
       "      <td>1.081609e+11</td>\n",
       "      <td>1.812490e+10</td>\n",
       "      <td>930.603914</td>\n",
       "      <td>930.813277</td>\n",
       "    </tr>\n",
       "    <tr>\n",
       "      <th>min</th>\n",
       "      <td>1.195663e+10</td>\n",
       "      <td>4.344880e+09</td>\n",
       "      <td>110.600000</td>\n",
       "      <td>0.000000</td>\n",
       "    </tr>\n",
       "    <tr>\n",
       "      <th>25%</th>\n",
       "      <td>2.522716e+10</td>\n",
       "      <td>1.040704e+10</td>\n",
       "      <td>227.845000</td>\n",
       "      <td>227.845000</td>\n",
       "    </tr>\n",
       "    <tr>\n",
       "      <th>50%</th>\n",
       "      <td>4.369277e+10</td>\n",
       "      <td>1.503386e+10</td>\n",
       "      <td>387.720000</td>\n",
       "      <td>387.720000</td>\n",
       "    </tr>\n",
       "    <tr>\n",
       "      <th>75%</th>\n",
       "      <td>1.824718e+11</td>\n",
       "      <td>3.094427e+10</td>\n",
       "      <td>1580.530000</td>\n",
       "      <td>1580.530000</td>\n",
       "    </tr>\n",
       "    <tr>\n",
       "      <th>max</th>\n",
       "      <td>4.813810e+11</td>\n",
       "      <td>1.409065e+11</td>\n",
       "      <td>4182.790000</td>\n",
       "      <td>4182.790000</td>\n",
       "    </tr>\n",
       "  </tbody>\n",
       "</table>\n",
       "</div>"
      ],
      "text/plain": [
       "         Market Cap        Volume         Open        Close\n",
       "count  5.470000e+02  5.470000e+02   547.000000   547.000000\n",
       "mean   1.018994e+11  2.244515e+10   888.237367   888.001188\n",
       "std    1.081609e+11  1.812490e+10   930.603914   930.813277\n",
       "min    1.195663e+10  4.344880e+09   110.600000     0.000000\n",
       "25%    2.522716e+10  1.040704e+10   227.845000   227.845000\n",
       "50%    4.369277e+10  1.503386e+10   387.720000   387.720000\n",
       "75%    1.824718e+11  3.094427e+10  1580.530000  1580.530000\n",
       "max    4.813810e+11  1.409065e+11  4182.790000  4182.790000"
      ]
     },
     "execution_count": 21,
     "metadata": {},
     "output_type": "execute_result"
    }
   ],
   "source": [
    "df.describe()"
   ]
  },
  {
   "cell_type": "markdown",
   "metadata": {},
   "source": [
    "The total volume in every year"
   ]
  },
  {
   "cell_type": "code",
   "execution_count": 25,
   "metadata": {},
   "outputs": [
    {
     "data": {
      "text/plain": [
       "Year\n",
       "2020    4.755115e+12\n",
       "2021    7.522383e+12\n",
       "Freq: A-DEC, Name: Volume, dtype: float64"
      ]
     },
     "execution_count": 25,
     "metadata": {},
     "output_type": "execute_result"
    }
   ],
   "source": [
    "df = df.reset_index()\n",
    "df['Year'] = df['Date'].dt.to_period('Y')\n",
    "df.groupby(by='Year')['Volume'].sum()"
   ]
  },
  {
   "cell_type": "markdown",
   "metadata": {},
   "source": [
    "the minimum value of Volume is 4.344880e+09 on 2020-07-18"
   ]
  },
  {
   "cell_type": "code",
   "execution_count": 26,
   "metadata": {
    "scrolled": false
   },
   "outputs": [
    {
     "data": {
      "text/html": [
       "<div>\n",
       "<style scoped>\n",
       "    .dataframe tbody tr th:only-of-type {\n",
       "        vertical-align: middle;\n",
       "    }\n",
       "\n",
       "    .dataframe tbody tr th {\n",
       "        vertical-align: top;\n",
       "    }\n",
       "\n",
       "    .dataframe thead th {\n",
       "        text-align: right;\n",
       "    }\n",
       "</style>\n",
       "<table border=\"1\" class=\"dataframe\">\n",
       "  <thead>\n",
       "    <tr style=\"text-align: right;\">\n",
       "      <th></th>\n",
       "      <th>Date</th>\n",
       "      <th>Market Cap</th>\n",
       "      <th>Volume</th>\n",
       "      <th>Open</th>\n",
       "      <th>Close</th>\n",
       "      <th>Year</th>\n",
       "    </tr>\n",
       "  </thead>\n",
       "  <tbody>\n",
       "    <tr>\n",
       "      <th>199</th>\n",
       "      <td>2020-07-18</td>\n",
       "      <td>2.601517e+10</td>\n",
       "      <td>4.344880e+09</td>\n",
       "      <td>232.78</td>\n",
       "      <td>235.68</td>\n",
       "      <td>2020</td>\n",
       "    </tr>\n",
       "  </tbody>\n",
       "</table>\n",
       "</div>"
      ],
      "text/plain": [
       "          Date    Market Cap        Volume    Open   Close  Year\n",
       "199 2020-07-18  2.601517e+10  4.344880e+09  232.78  235.68  2020"
      ]
     },
     "execution_count": 26,
     "metadata": {},
     "output_type": "execute_result"
    }
   ],
   "source": [
    "df[df['Volume'] == df['Volume'].min()]"
   ]
  },
  {
   "cell_type": "markdown",
   "metadata": {},
   "source": [
    "the maximum value of Volume is 1.409065e+11 on 2021-01-04"
   ]
  },
  {
   "cell_type": "code",
   "execution_count": 24,
   "metadata": {
    "scrolled": true
   },
   "outputs": [
    {
     "data": {
      "text/html": [
       "<div>\n",
       "<style scoped>\n",
       "    .dataframe tbody tr th:only-of-type {\n",
       "        vertical-align: middle;\n",
       "    }\n",
       "\n",
       "    .dataframe tbody tr th {\n",
       "        vertical-align: top;\n",
       "    }\n",
       "\n",
       "    .dataframe thead th {\n",
       "        text-align: right;\n",
       "    }\n",
       "</style>\n",
       "<table border=\"1\" class=\"dataframe\">\n",
       "  <thead>\n",
       "    <tr style=\"text-align: right;\">\n",
       "      <th></th>\n",
       "      <th>Market Cap</th>\n",
       "      <th>Volume</th>\n",
       "      <th>Open</th>\n",
       "      <th>Close</th>\n",
       "    </tr>\n",
       "    <tr>\n",
       "      <th>Date</th>\n",
       "      <th></th>\n",
       "      <th></th>\n",
       "      <th></th>\n",
       "      <th></th>\n",
       "    </tr>\n",
       "  </thead>\n",
       "  <tbody>\n",
       "    <tr>\n",
       "      <th>2021-01-04</th>\n",
       "      <td>1.125254e+11</td>\n",
       "      <td>1.409065e+11</td>\n",
       "      <td>967.0</td>\n",
       "      <td>1025.65</td>\n",
       "    </tr>\n",
       "  </tbody>\n",
       "</table>\n",
       "</div>"
      ],
      "text/plain": [
       "              Market Cap        Volume   Open    Close\n",
       "Date                                                  \n",
       "2021-01-04  1.125254e+11  1.409065e+11  967.0  1025.65"
      ]
     },
     "execution_count": 24,
     "metadata": {},
     "output_type": "execute_result"
    }
   ],
   "source": [
    "df[df['Volume'] == df['Volume'].max()]"
   ]
  },
  {
   "cell_type": "markdown",
   "metadata": {},
   "source": [
    "## Analysis"
   ]
  },
  {
   "cell_type": "markdown",
   "metadata": {},
   "source": [
    "In general Ethereum trading volume is increased in 2021 compared to 2020. Average trading volume are 22.43 billion dollars. Total amounts of volume trading in 2021 is 4.755 trillion dollars, while in 2021 total amounts of volume trading is 7.495 trillion dollars. On February-July 2020 the trade volume Ethereum generally decreased until reached its lowest point in 18th July 2020 at 4.34 billion dollars. Then the trading volume slowly increased at August 2020 and reached its highest point in fourt January 2021 at 140.9 billion dollars. "
   ]
  },
  {
   "cell_type": "markdown",
   "metadata": {},
   "source": [
    "### Extra Challange\n",
    "\n",
    "This will be not included to the scoring. \n",
    "\n",
    "- You can create additional analysis from the data.\n",
    "- Implement it to the dashboard with at `app.py` dan `index.html`."
   ]
  }
 ],
 "metadata": {
  "kernelspec": {
   "display_name": "phoenix_da",
   "language": "python",
   "name": "phoenix_da"
  },
  "language_info": {
   "codemirror_mode": {
    "name": "ipython",
    "version": 3
   },
   "file_extension": ".py",
   "mimetype": "text/x-python",
   "name": "python",
   "nbconvert_exporter": "python",
   "pygments_lexer": "ipython3",
   "version": "3.8.11"
  },
  "toc": {
   "base_numbering": 1,
   "nav_menu": {},
   "number_sections": true,
   "sideBar": true,
   "skip_h1_title": false,
   "title_cell": "Table of Contents",
   "title_sidebar": "Contents",
   "toc_cell": false,
   "toc_position": {},
   "toc_section_display": true,
   "toc_window_display": false
  }
 },
 "nbformat": 4,
 "nbformat_minor": 2
}
